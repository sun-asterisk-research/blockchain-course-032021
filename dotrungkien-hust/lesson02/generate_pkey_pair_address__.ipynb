{
  "nbformat": 4,
  "nbformat_minor": 0,
  "metadata": {
    "colab": {
      "name": "generate_pkey_pair_address__.ipynb",
      "provenance": [],
      "collapsed_sections": [],
      "authorship_tag": "ABX9TyOgrhnepN37mNGlfhmIwHaC",
      "include_colab_link": true
    },
    "kernelspec": {
      "name": "python3",
      "display_name": "Python 3"
    },
    "language_info": {
      "name": "python"
    }
  },
  "cells": [
    {
      "cell_type": "markdown",
      "metadata": {
        "id": "view-in-github",
        "colab_type": "text"
      },
      "source": [
        "<a href=\"https://colab.research.google.com/github/hoangdv2429/blockchain-course-032021/blob/main/generate_pkey_pair_address__.ipynb\" target=\"_parent\"><img src=\"https://colab.research.google.com/assets/colab-badge.svg\" alt=\"Open In Colab\"/></a>"
      ]
    },
    {
      "cell_type": "code",
      "metadata": {
        "colab": {
          "base_uri": "https://localhost:8080/"
        },
        "id": "aDiwtYwXn0d9",
        "outputId": "a8b4a8dc-816f-4fac-e70c-01b26a24bdc3"
      },
      "source": [
        "pip install ecdsa\n"
      ],
      "execution_count": 25,
      "outputs": [
        {
          "output_type": "stream",
          "text": [
            "Collecting ecdsa\n",
            "\u001b[?25l  Downloading https://files.pythonhosted.org/packages/98/16/70be2716e24eaf5d81074bb3c05429d60292c2a96613a78ac3d69526ad2a/ecdsa-0.16.1-py2.py3-none-any.whl (104kB)\n",
            "\r\u001b[K     |███▏                            | 10kB 13.8MB/s eta 0:00:01\r\u001b[K     |██████▎                         | 20kB 12.4MB/s eta 0:00:01\r\u001b[K     |█████████▍                      | 30kB 8.7MB/s eta 0:00:01\r\u001b[K     |████████████▋                   | 40kB 7.3MB/s eta 0:00:01\r\u001b[K     |███████████████▊                | 51kB 4.1MB/s eta 0:00:01\r\u001b[K     |██████████████████▉             | 61kB 4.5MB/s eta 0:00:01\r\u001b[K     |██████████████████████          | 71kB 4.8MB/s eta 0:00:01\r\u001b[K     |█████████████████████████▏      | 81kB 5.3MB/s eta 0:00:01\r\u001b[K     |████████████████████████████▎   | 92kB 5.4MB/s eta 0:00:01\r\u001b[K     |███████████████████████████████▌| 102kB 5.8MB/s eta 0:00:01\r\u001b[K     |████████████████████████████████| 112kB 5.8MB/s \n",
            "\u001b[?25hRequirement already satisfied: six>=1.9.0 in /usr/local/lib/python3.7/dist-packages (from ecdsa) (1.15.0)\n",
            "Installing collected packages: ecdsa\n",
            "Successfully installed ecdsa-0.16.1\n"
          ],
          "name": "stdout"
        }
      ]
    },
    {
      "cell_type": "code",
      "metadata": {
        "id": "q68ZQcpqF0NN"
      },
      "source": [
        "def __private_to_public(private_key):\n",
        "        private_hex = codecs.decode(private_key, 'hex')\n",
        "        # Get ECDSA public key\n",
        "        key = ecdsa.SigningKey.from_string(private_hex, curve=ecdsa.SECP256k1).verifying_key\n",
        "        key_bytes = key.to_string()\n",
        "        key_hex = codecs.encode(key_bytes, 'hex')\n",
        "        # Add bitcoin byte\n",
        "        bitcoin_byte = b'04'\n",
        "        public_key = bitcoin_byte + key_hex\n",
        "        return public_key \n",
        "\n",
        "def __private_to_compressed_public(private_key):\n",
        "        private_hex = codecs.decode(private_key, 'hex')\n",
        "        # Get ECDSA public key\n",
        "        key = ecdsa.SigningKey.from_string(private_hex, curve=ecdsa.SECP256k1).verifying_key\n",
        "        key_bytes = key.to_string()\n",
        "        key_hex = codecs.encode(key_bytes, 'hex')\n",
        "        # Get X from the key (first half)\n",
        "        key_string = key_hex.decode('utf-8')\n",
        "        half_len = len(key_hex) // 2\n",
        "        key_half = key_hex[:half_len]\n",
        "        # Add bitcoin byte: 0x02 if the last digit is even, 0x03 if the last digit is odd\n",
        "        last_byte = int(key_string[-1], 16)\n",
        "        bitcoin_byte = b'02' if last_byte % 2 == 0 else b'03'\n",
        "        public_key = bitcoin_byte + key_half\n",
        "        return public_key         "
      ],
      "execution_count": 45,
      "outputs": []
    },
    {
      "cell_type": "code",
      "metadata": {
        "colab": {
          "base_uri": "https://localhost:8080/"
        },
        "id": "9sOYuBvVBA0b",
        "outputId": "926deaf6-1835-4fde-c11d-b64a63d662c5"
      },
      "source": [
        "import secrets\n",
        "import codecs\n",
        "import hashlib\n",
        "import ecdsa\n",
        "\n",
        "#get private key randomly base on the entropy of the computer at the momment \n",
        "bits = secrets.randbits(256)\n",
        "bits_hex = hex(bits)\n",
        "private_key = bits_hex[2:]\n",
        "\n",
        "print(\"this is private key: \" + \"\\n\" + private_key)\n",
        "print(\"Uncompress public key: \")\n",
        "print(__private_to_public(private_key))\n",
        "print(\"Compress public key:\")\n",
        "print(__private_to_compressed_public(private_key))\n",
        "\n",
        "\n",
        "public_key_bytes = codecs.decode(key_hex, 'hex')\n",
        "# Run SHA-256 for the public key\n",
        "sha256_bpk = hashlib.sha256(public_key_bytes)\n",
        "sha256_bpk_digest = sha256_bpk.digest()\n",
        "# Run RIPEMD-160 for the SHA-256\n",
        "ripemd160_bpk = hashlib.new('ripemd160')\n",
        "ripemd160_bpk.update(sha256_bpk_digest)\n",
        "ripemd160_bpk_digest = ripemd160_bpk.digest()\n",
        "ripemd160_bpk_hex = codecs.encode(ripemd160_bpk_digest, 'hex')\n",
        "\n",
        "print(\"Address in hex: \\n\" + str(ripemd160_bpk_hex))\n"
      ],
      "execution_count": 49,
      "outputs": [
        {
          "output_type": "stream",
          "text": [
            "this is private key: \n",
            "5c0053b387475143ec4bfab9188119fcdfa6d4df1844232c9d3377ed6a8c7038\n",
            "Uncompress public key: \n",
            "b'0410b21fdfac1c6aab203f8653884ced286a91ada0c3e9a5559850cd7fc84c8246a2076c5687dd3326719bbd58aa97f8c7ed9f7c660a85731ca415db737f5189e4'\n",
            "Compress public key:\n",
            "b'0210b21fdfac1c6aab203f8653884ced286a91ada0c3e9a5559850cd7fc84c8246'\n",
            "Address in hex: \n",
            "b'401acbd21884009709f9ccd8782efe732876e628'\n"
          ],
          "name": "stdout"
        }
      ]
    }
  ]
}
